{
 "cells": [
  {
   "cell_type": "code",
   "execution_count": 9,
   "id": "2a2e41a9",
   "metadata": {},
   "outputs": [],
   "source": [
    "#遊戲角色的資料可以放進dict中\n",
    "#把JSON檔叫近來打開 \n",
    "import json\n",
    "Game = open('Game.json',encoding=\"utf8\")"
   ]
  },
  {
   "cell_type": "code",
   "execution_count": 10,
   "id": "859fae57",
   "metadata": {
    "scrolled": true
   },
   "outputs": [],
   "source": [
    "G = json.load(Game)"
   ]
  },
  {
   "cell_type": "code",
   "execution_count": 11,
   "id": "3ae3ead1",
   "metadata": {
    "scrolled": true
   },
   "outputs": [
    {
     "data": {
      "text/plain": [
       "dict"
      ]
     },
     "execution_count": 11,
     "metadata": {},
     "output_type": "execute_result"
    }
   ],
   "source": [
    "type(G)"
   ]
  },
  {
   "cell_type": "code",
   "execution_count": 12,
   "id": "5f99fa92",
   "metadata": {},
   "outputs": [
    {
     "data": {
      "text/plain": [
       "dict_items([('角色列表', [{'角色名稱': '颯枷', '角色定位': '法師', '角色強度': 'No.1'}, {'角色名稱': '莉莉安', '角色定位': '法師', '角色強度': 'No.2'}, {'角色名稱': '圖倫', '角色定位': '法師', '角色強度': 'No.3'}, {'角色名稱': '狄拉克', '角色定位': '法師', '角色強度': 'No.4'}, {'角色名稱': '伊格', '角色定位': '法師', '角色強度': 'No.5'}]), ('角色禁用率', [{'角色名稱': '颯枷', '禁用率': '80%'}, {'角色名稱': '莉莉安', '禁用率': '35%'}, {'角色名稱': '圖倫', '禁用率': '10%'}, {'角色名稱': '狄拉克', '禁用率': '0%'}, {'角色名稱': '伊格', '禁用率': '50%'}])])"
      ]
     },
     "execution_count": 12,
     "metadata": {},
     "output_type": "execute_result"
    }
   ],
   "source": [
    "#讀出字典裡的資料\n",
    "G.items()"
   ]
  },
  {
   "cell_type": "code",
   "execution_count": 13,
   "id": "27a119c3",
   "metadata": {},
   "outputs": [],
   "source": [
    "temp = G.get('角色列表')\n",
    "temp1 = G.get('角色禁用率')"
   ]
  },
  {
   "cell_type": "code",
   "execution_count": 14,
   "id": "3ec896d3",
   "metadata": {},
   "outputs": [
    {
     "name": "stdout",
     "output_type": "stream",
     "text": [
      "查詢角色資訊:颯枷\n"
     ]
    }
   ],
   "source": [
    "#輸入想了解的角色\n",
    "ask = input(\"查詢角色資訊:\")"
   ]
  },
  {
   "cell_type": "code",
   "execution_count": 16,
   "id": "04d434df",
   "metadata": {},
   "outputs": [
    {
     "name": "stdout",
     "output_type": "stream",
     "text": [
      "颯枷 屬於 法師\n",
      "角色強度: No.1\n"
     ]
    }
   ],
   "source": [
    "# 查詢角色定位跟角色強度\n",
    "for a in temp:\n",
    "    if ask == a.get('角色名稱'):\n",
    "        print(ask,'屬於', a.get('角色定位'))\n",
    "        print(\"角色強度:\", a.get('角色強度'))"
   ]
  },
  {
   "cell_type": "code",
   "execution_count": 8,
   "id": "cc036a70",
   "metadata": {},
   "outputs": [
    {
     "name": "stdout",
     "output_type": "stream",
     "text": [
      "禁用率為 80%\n"
     ]
    }
   ],
   "source": [
    "# 查詢禁用率\n",
    "for b in temp1:\n",
    "    if ask == b.get('角色名稱'):\n",
    "        print('禁用率為', b.get('禁用率'))"
   ]
  },
  {
   "cell_type": "code",
   "execution_count": 19,
   "id": "67dd3cba",
   "metadata": {},
   "outputs": [
    {
     "data": {
      "text/plain": [
       "['No.1', 'No.2', 'No.3', 'No.4', 'No.5']"
      ]
     },
     "execution_count": 19,
     "metadata": {},
     "output_type": "execute_result"
    }
   ],
   "source": [
    "#排序角色強度\n",
    "strength = []\n",
    "for a in temp:\n",
    "    strength.append(a.get('角色強度'))\n",
    "strength"
   ]
  },
  {
   "cell_type": "code",
   "execution_count": 22,
   "id": "9cc30ba3",
   "metadata": {},
   "outputs": [],
   "source": [
    "strength_enumerate = enumerate(strength, start = 1)"
   ]
  },
  {
   "cell_type": "code",
   "execution_count": 24,
   "id": "815b21f0",
   "metadata": {},
   "outputs": [
    {
     "data": {
      "text/plain": [
       "[(5, 'No.5'), (4, 'No.4'), (3, 'No.3'), (2, 'No.2'), (1, 'No.1')]"
      ]
     },
     "execution_count": 24,
     "metadata": {},
     "output_type": "execute_result"
    }
   ],
   "source": [
    "strength_enumerate_sorted = sorted(strength_enumerate, key = lambda s: s[1], reverse = True)\n",
    "strength_enumerate_sorted"
   ]
  },
  {
   "cell_type": "code",
   "execution_count": 25,
   "id": "a7e3beea",
   "metadata": {},
   "outputs": [
    {
     "data": {
      "text/plain": [
       "5"
      ]
     },
     "execution_count": 25,
     "metadata": {},
     "output_type": "execute_result"
    }
   ],
   "source": [
    "strength_enumerate_sorted[0][0]"
   ]
  },
  {
   "cell_type": "code",
   "execution_count": 27,
   "id": "05af8bdc",
   "metadata": {},
   "outputs": [
    {
     "name": "stdout",
     "output_type": "stream",
     "text": [
      "伊格 是 No.5\n",
      "狄拉克 是 No.4\n",
      "圖倫 是 No.3\n",
      "莉莉安 是 No.2\n",
      "颯枷 是 No.1\n"
     ]
    }
   ],
   "source": [
    "# 印出排序過後的角色名稱&角色強度排名\n",
    "for a in strength_enumerate_sorted:\n",
    "    j = a[0] - 1\n",
    "    print(temp[j].get('角色名稱'), '是', temp[j].get('角色強度'))"
   ]
  },
  {
   "cell_type": "code",
   "execution_count": null,
   "id": "60cca872",
   "metadata": {},
   "outputs": [],
   "source": []
  }
 ],
 "metadata": {
  "kernelspec": {
   "display_name": "Python 3 (ipykernel)",
   "language": "python",
   "name": "python3"
  },
  "language_info": {
   "codemirror_mode": {
    "name": "ipython",
    "version": 3
   },
   "file_extension": ".py",
   "mimetype": "text/x-python",
   "name": "python",
   "nbconvert_exporter": "python",
   "pygments_lexer": "ipython3",
   "version": "3.9.12"
  }
 },
 "nbformat": 4,
 "nbformat_minor": 5
}
