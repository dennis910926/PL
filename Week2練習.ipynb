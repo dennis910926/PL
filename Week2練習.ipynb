{
 "cells": [
  {
   "cell_type": "code",
   "execution_count": 2,
   "id": "e5ea604a",
   "metadata": {},
   "outputs": [
    {
     "name": "stdout",
     "output_type": "stream",
     "text": [
      "被告賠償金額 17981 元\n",
      "原告賠償金額 7706 元\n"
     ]
    }
   ],
   "source": [
    "#題目1\n",
    "total = 25688\n",
    "A = total * 0.7\n",
    "B = total * 0.3\n",
    "print(\"被告賠償金額\",int(A),\"元\")\n",
    "print(\"原告賠償金額\",int(B),\"元\")"
   ]
  },
  {
   "cell_type": "code",
   "execution_count": 6,
   "id": "66e9d571",
   "metadata": {},
   "outputs": [
    {
     "name": "stdout",
     "output_type": "stream",
     "text": [
      "丁OO總共還 12608 元\n"
     ]
    }
   ],
   "source": [
    "#題目2\n",
    "money = 11805\n",
    "fine1 = 150\n",
    "fine2 = 300\n",
    "rate = 0.0005\n",
    "total_fine = fine1+fine2+money*((1+rate)**59)\n",
    "print(\"丁OO總共還\",int(total_fine),\"元\")"
   ]
  },
  {
   "cell_type": "code",
   "execution_count": null,
   "id": "4160c20e",
   "metadata": {},
   "outputs": [],
   "source": []
  }
 ],
 "metadata": {
  "kernelspec": {
   "display_name": "Python 3 (ipykernel)",
   "language": "python",
   "name": "python3"
  },
  "language_info": {
   "codemirror_mode": {
    "name": "ipython",
    "version": 3
   },
   "file_extension": ".py",
   "mimetype": "text/x-python",
   "name": "python",
   "nbconvert_exporter": "python",
   "pygments_lexer": "ipython3",
   "version": "3.9.12"
  }
 },
 "nbformat": 4,
 "nbformat_minor": 5
}
