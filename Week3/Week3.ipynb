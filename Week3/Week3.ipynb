{
 "cells": [
  {
   "cell_type": "code",
   "execution_count": 1,
   "id": "7d686514",
   "metadata": {
    "scrolled": true
   },
   "outputs": [
    {
     "name": "stdout",
     "output_type": "stream",
     "text": [
      "  角色名稱\n",
      "0   颯枷\n",
      "1  莉莉安\n",
      "2   奎倫\n",
      "3  拉維爾\n",
      "4   靈靈\n",
      "5  阿茲卡\n",
      "    法師\n",
      "0   颯枷\n",
      "1  莉莉安\n",
      "2  阿茲卡\n"
     ]
    }
   ],
   "source": [
    "# 角色定位\n",
    "import pandas as pd\n",
    "character = pd.read_csv(\"allcharacter.csv\")\n",
    "magic = pd.read_csv(\"magic.csv\")\n",
    "print(character)\n",
    "print(magic)"
   ]
  },
  {
   "cell_type": "code",
   "execution_count": 2,
   "id": "b6bab071",
   "metadata": {},
   "outputs": [
    {
     "name": "stdout",
     "output_type": "stream",
     "text": [
      "全部角色: 6  vs. 法師: 3\n"
     ]
    }
   ],
   "source": [
    "ls_A = list(character[\"角色名稱\"])\n",
    "ls_B = list(magic[\"法師\"])\n",
    "print(\"全部角色:\", len(ls_A), \" vs. 法師:\", len(ls_B))"
   ]
  },
  {
   "cell_type": "code",
   "execution_count": 3,
   "id": "55f286a9",
   "metadata": {},
   "outputs": [],
   "source": [
    "X = set(ls_A)\n",
    "Y = set(ls_B)"
   ]
  },
  {
   "cell_type": "code",
   "execution_count": 5,
   "id": "48988bdb",
   "metadata": {},
   "outputs": [
    {
     "name": "stdout",
     "output_type": "stream",
     "text": [
      "在角色列表裡是法師:\n",
      "{'莉莉安', '颯枷', '阿茲卡'}\n"
     ]
    }
   ],
   "source": [
    "# 交集\n",
    "print('在角色列表裡是法師:')\n",
    "print(X&Y)"
   ]
  },
  {
   "cell_type": "code",
   "execution_count": 7,
   "id": "0172176f",
   "metadata": {},
   "outputs": [
    {
     "name": "stdout",
     "output_type": "stream",
     "text": [
      "所有角色:\n",
      "{'莉莉安', '阿茲卡', '颯枷', '奎倫', '拉維爾', '靈靈'}\n"
     ]
    }
   ],
   "source": [
    "# 聯集\n",
    "print('所有角色:')\n",
    "print(X|Y)"
   ]
  },
  {
   "cell_type": "code",
   "execution_count": 9,
   "id": "6c8f5508",
   "metadata": {},
   "outputs": [
    {
     "name": "stdout",
     "output_type": "stream",
     "text": [
      "在角色列表裡但不是法師:\n",
      "{'靈靈', '拉維爾', '奎倫'}\n"
     ]
    }
   ],
   "source": [
    "# 差集\n",
    "print('在角色列表裡但不是法師:')\n",
    "print(X-Y)"
   ]
  },
  {
   "cell_type": "code",
   "execution_count": 10,
   "id": "4bec96c3",
   "metadata": {},
   "outputs": [
    {
     "name": "stdout",
     "output_type": "stream",
     "text": [
      "是法師不是刺客以及是刺客但不是法師:\n",
      "{'拉維爾', '奎倫', '靈靈'}\n"
     ]
    }
   ],
   "source": [
    "# 對稱差集\n",
    "print('是法師不是刺客以及是刺客但不是法師:')\n",
    "print(X^Y)"
   ]
  },
  {
   "cell_type": "code",
   "execution_count": null,
   "id": "5a147298",
   "metadata": {},
   "outputs": [],
   "source": []
  }
 ],
 "metadata": {
  "kernelspec": {
   "display_name": "Python 3 (ipykernel)",
   "language": "python",
   "name": "python3"
  },
  "language_info": {
   "codemirror_mode": {
    "name": "ipython",
    "version": 3
   },
   "file_extension": ".py",
   "mimetype": "text/x-python",
   "name": "python",
   "nbconvert_exporter": "python",
   "pygments_lexer": "ipython3",
   "version": "3.9.12"
  }
 },
 "nbformat": 4,
 "nbformat_minor": 5
}
