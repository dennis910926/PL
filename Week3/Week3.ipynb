{
 "cells": [
  {
   "cell_type": "code",
   "execution_count": 82,
   "id": "7d686514",
   "metadata": {
    "scrolled": true
   },
   "outputs": [
    {
     "name": "stdout",
     "output_type": "stream",
     "text": [
      "  角色名稱   法師   刺客\n",
      "0   颯枷    是    是\n",
      "1  莉莉安    是    是\n",
      "2   奎倫  NaN    是\n",
      "3  拉維爾  NaN  NaN\n",
      "4   靈靈  NaN  NaN\n",
      "5  阿茲卡    是  NaN\n"
     ]
    }
   ],
   "source": [
    "# 角色定位\n",
    "import pandas as pd\n",
    "data = pd.read_csv(\"game1.csv\")\n",
    "\n",
    "print(data)\n"
   ]
  },
  {
   "cell_type": "code",
   "execution_count": 83,
   "id": "2f92c1a5",
   "metadata": {},
   "outputs": [
    {
     "name": "stdout",
     "output_type": "stream",
     "text": [
      "  角色名稱   法師 刺客\n",
      "0   颯枷    是  是\n",
      "2   奎倫  NaN  是\n"
     ]
    }
   ],
   "source": [
    "delete = data.drop_duplicates(subset=['法師']) #重複去掉\n",
    "print(delete)"
   ]
  },
  {
   "cell_type": "code",
   "execution_count": 84,
   "id": "b6bab071",
   "metadata": {},
   "outputs": [
    {
     "name": "stdout",
     "output_type": "stream",
     "text": [
      "全部角色: 6  vs. 法師: 6\n"
     ]
    }
   ],
   "source": [
    "ls_A = list(data[\"角色名稱\"])\n",
    "ls_B = list(data[\"法師\"])\n",
    "print(\"全部角色:\", len(ls_A), \" vs. 法師:\", len(ls_B))"
   ]
  },
  {
   "cell_type": "code",
   "execution_count": 73,
   "id": "55f286a9",
   "metadata": {},
   "outputs": [],
   "source": [
    "X = set(ls_A)\n",
    "Y = set(ls_B)"
   ]
  },
  {
   "cell_type": "code",
   "execution_count": 74,
   "id": "48988bdb",
   "metadata": {},
   "outputs": [
    {
     "name": "stdout",
     "output_type": "stream",
     "text": [
      "是法師也是刺客\n",
      "set()\n"
     ]
    }
   ],
   "source": [
    "# 交集\n",
    "print('是法師也是刺客')\n",
    "print(X&Y)"
   ]
  },
  {
   "cell_type": "code",
   "execution_count": 75,
   "id": "0172176f",
   "metadata": {},
   "outputs": [
    {
     "name": "stdout",
     "output_type": "stream",
     "text": [
      "所有法師和刺客\n",
      "{nan, '莉莉安', '奎倫', '拉維爾', '是', '颯枷', '阿茲卡', '靈靈'}\n"
     ]
    }
   ],
   "source": [
    "# 聯集\n",
    "print('所有法師和刺客')\n",
    "print(X|Y)"
   ]
  },
  {
   "cell_type": "code",
   "execution_count": 76,
   "id": "6c8f5508",
   "metadata": {},
   "outputs": [
    {
     "name": "stdout",
     "output_type": "stream",
     "text": [
      "是法師但不是刺客\n",
      "{'莉莉安', '奎倫', '颯枷', '拉維爾', '阿茲卡', '靈靈'}\n"
     ]
    }
   ],
   "source": [
    "# 差集\n",
    "print('是法師但不是刺客')\n",
    "print(X-Y)"
   ]
  },
  {
   "cell_type": "code",
   "execution_count": 77,
   "id": "4bec96c3",
   "metadata": {},
   "outputs": [
    {
     "name": "stdout",
     "output_type": "stream",
     "text": [
      "是法師不是刺客以及是刺客但不是法師\n",
      "{nan, '莉莉安', '奎倫', '是', '颯枷', '拉維爾', '阿茲卡', '靈靈'}\n"
     ]
    }
   ],
   "source": [
    "# 對稱差集\n",
    "print('是法師不是刺客以及是刺客但不是法師')\n",
    "print(X^Y)"
   ]
  }
 ],
 "metadata": {
  "kernelspec": {
   "display_name": "Python 3 (ipykernel)",
   "language": "python",
   "name": "python3"
  },
  "language_info": {
   "codemirror_mode": {
    "name": "ipython",
    "version": 3
   },
   "file_extension": ".py",
   "mimetype": "text/x-python",
   "name": "python",
   "nbconvert_exporter": "python",
   "pygments_lexer": "ipython3",
   "version": "3.9.12"
  }
 },
 "nbformat": 4,
 "nbformat_minor": 5
}
