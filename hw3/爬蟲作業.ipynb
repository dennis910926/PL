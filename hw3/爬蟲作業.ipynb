{
 "cells": [
  {
   "cell_type": "code",
   "execution_count": 15,
   "id": "b249c8bb",
   "metadata": {},
   "outputs": [
    {
     "name": "stdout",
     "output_type": "stream",
     "text": [
      "請求成功：200\n"
     ]
    }
   ],
   "source": [
    "import requests\n",
    "from bs4 import BeautifulSoup\n",
    "\n",
    "\n",
    "headers = {\n",
    "    'User-Agent': 'Mozilla/5.0 (Windows NT 10.0; Win64; x64) AppleWebKit/537.36 (KHTML, like Gecko) Chrome/96.0.4664.45 Safari/537.36',\n",
    "}\n",
    "\n",
    "r = requests.get('https://ani.gamer.com.tw/', headers=headers)\n",
    "if r.status_code == 200:\n",
    "    print(f'請求成功：{r.status_code}')\n",
    "else:\n",
    "    print(f'請求失敗：{r.status_code}')"
   ]
  },
  {
   "cell_type": "code",
   "execution_count": 16,
   "id": "dbaac4ca",
   "metadata": {},
   "outputs": [
    {
     "name": "stdout",
     "output_type": "stream",
     "text": [
      "35\n"
     ]
    }
   ],
   "source": [
    "##抓到35組動畫元素\n",
    "soup = BeautifulSoup(r.text, 'html.parser')\n",
    "newanime_item = soup.select_one('.timeline-ver > .newanime-block')\n",
    "anime_items = newanime_item.select('.newanime-date-area:not(.premium-block)')\n",
    "print(len(anime_items))"
   ]
  },
  {
   "cell_type": "code",
   "execution_count": 19,
   "id": "37cb7bff",
   "metadata": {},
   "outputs": [
    {
     "name": "stdout",
     "output_type": "stream",
     "text": [
      "鏈鋸人\n",
      "14.7萬\n",
      "第3集\n",
      "https://ani.gamer.com.tw/animeVideo.php?sn=31672\n",
      "呆萌酷男孩\n",
      "7.4萬\n",
      "第4集\n",
      "https://ani.gamer.com.tw/animeVideo.php?sn=31748\n",
      "BLEACH 死神 千年血戰篇\n",
      "48萬\n",
      "第4集\n",
      "https://ani.gamer.com.tw/animeVideo.php?sn=31745\n",
      "菜鳥鍊金術師開店營業中\n",
      "35.5萬\n",
      "第5集\n",
      "https://ani.gamer.com.tw/animeVideo.php?sn=31668\n",
      "給不滅的你 第二季\n",
      "4.2萬\n",
      "第2集\n",
      "https://ani.gamer.com.tw/animeVideo.php?sn=31755\n",
      "彼得・格里爾的賢者時間 Super Extra\n",
      "5.9萬\n",
      "第4集\n",
      "https://ani.gamer.com.tw/animeVideo.php?sn=31742\n",
      "彼得・格里爾的賢者時間 Super Extra\n",
      "11.7萬\n",
      "第4集\n",
      "https://ani.gamer.com.tw/animeVideo.php?sn=31739\n",
      "IDOLiSH7 - 偶像星願 - Third BEAT！\n",
      "30.3萬\n",
      "第18集\n",
      "https://ani.gamer.com.tw/animeVideo.php?sn=31736\n",
      "夫婦以上，戀人未滿\n",
      "23.4萬\n",
      "第4集\n",
      "https://ani.gamer.com.tw/animeVideo.php?sn=31733\n",
      "機動戰士鋼彈 水星的魔女\n",
      "64.1萬\n",
      "第5集\n",
      "https://ani.gamer.com.tw/animeVideo.php?sn=31701\n",
      "超人力霸王德卡\n",
      "4.7萬\n",
      "第16集\n",
      "https://ani.gamer.com.tw/animeVideo.php?sn=31730\n",
      "藍色監獄\n",
      "31.9萬\n",
      "第4集\n",
      "https://ani.gamer.com.tw/animeVideo.php?sn=31727\n",
      "烙印勇士 黃金時代篇 MEMORIAL EDITION\n",
      "6.2萬\n",
      "第5集\n",
      "https://ani.gamer.com.tw/animeVideo.php?sn=31698\n",
      "孤獨搖滾！\n",
      "38.6萬\n",
      "第4集\n",
      "https://ani.gamer.com.tw/animeVideo.php?sn=31724\n",
      "新網球王子 U-17 世界盃\n",
      "12.1萬\n",
      "第13集\n",
      "https://ani.gamer.com.tw/animeVideo.php?sn=31615\n",
      "後宮之烏\n",
      "22.8萬\n",
      "第5集\n",
      "https://ani.gamer.com.tw/animeVideo.php?sn=31695\n",
      "SPY×FAMILY 間諜家家酒\n",
      "1166.6萬\n",
      "第17集\n",
      "https://ani.gamer.com.tw/animeVideo.php?sn=31692\n",
      "點滿農民相關技能後，不知為何就變強了。\n",
      "51.3萬\n",
      "第5集\n",
      "https://ani.gamer.com.tw/animeVideo.php?sn=31689\n",
      "因為是反派大小姐所以養了魔王\n",
      "35.5萬\n",
      "第6集\n",
      "https://ani.gamer.com.tw/animeVideo.php?sn=31721\n",
      "被勇者隊伍開除的馭獸使，邂逅了最強種的貓耳少女\n",
      "58.6萬\n",
      "第5集\n",
      "https://ani.gamer.com.tw/animeVideo.php?sn=31719\n",
      "入間同學入魔了！第三季\n",
      "30.8萬\n",
      "第4集\n",
      "https://ani.gamer.com.tw/animeVideo.php?sn=31715\n",
      "我的英雄學院 第六季\n",
      "47.8萬\n",
      "第118集\n",
      "https://ani.gamer.com.tw/animeVideo.php?sn=31686\n",
      "PUI PUI 天竺鼠車車 駕訓班篇\n",
      "13.8萬\n",
      "第4集\n",
      "https://ani.gamer.com.tw/animeVideo.php?sn=31712\n",
      "惑星公主蜥蜴騎士\n",
      "24.1萬\n",
      "第16集\n",
      "https://ani.gamer.com.tw/animeVideo.php?sn=31709\n",
      "聖劍傳說 Legend of Mana - The Teardrop Crystal -\n",
      "7.5萬\n",
      "第4集\n",
      "https://ani.gamer.com.tw/animeVideo.php?sn=31706\n",
      "我家師傅沒有尾巴\n",
      "9萬\n",
      "第5集\n",
      "https://ani.gamer.com.tw/animeVideo.php?sn=31665\n",
      "她來自煩星\n",
      "13.3萬\n",
      "第3集\n",
      "https://ani.gamer.com.tw/animeVideo.php?sn=31753\n",
      "書蟲公主\n",
      "12.3萬\n",
      "第4集\n",
      "https://ani.gamer.com.tw/animeVideo.php?sn=31703\n",
      "MUV-LUV ALTERNATIVE 第二季\n",
      "6.8萬\n",
      "第16集\n",
      "https://ani.gamer.com.tw/animeVideo.php?sn=31682\n",
      "路人超能 100 第三季\n",
      "43.9萬\n",
      "第4集\n",
      "https://ani.gamer.com.tw/animeVideo.php?sn=31676\n",
      "不道德公會\n",
      "18萬\n",
      "第4集\n",
      "https://ani.gamer.com.tw/animeVideo.php?sn=31679\n",
      "轉生就是劍\n",
      "82.6萬\n",
      "第5集\n",
      "https://ani.gamer.com.tw/animeVideo.php?sn=31662\n",
      "我想成為影之強者！\n",
      "73.4萬\n",
      "第4集\n",
      "https://ani.gamer.com.tw/animeVideo.php?sn=31673\n",
      "勇者鬥惡龍 達伊的大冒險\n",
      "437.2萬\n",
      "第100集\n",
      "https://ani.gamer.com.tw/animeVideo.php?sn=31354\n",
      "風都偵探\n",
      "70.5萬\n",
      "第12集\n",
      "https://ani.gamer.com.tw/animeVideo.php?sn=31609\n",
      "----------\n"
     ]
    }
   ],
   "source": [
    "# 依序針對每個動畫區塊擷取資料#抓取 \"動畫名稱\"、\"觀看人數\"、\"動畫集數\"、\"觀看連結\"\n",
    "for anime_item in anime_items:\n",
    "    anime_name = anime_item.select_one('.anime-name > p').text.strip()\n",
    "    print(anime_name)\n",
    "    anime_watch_number = anime_item.select_one('.anime-watch-number > p').text.strip()\n",
    "    print(anime_watch_number)\n",
    "    anime_episode = anime_item.select_one('.anime-episode').text.strip()\n",
    "    print(anime_episode)\n",
    "    anime_href = anime_item.select_one('a.anime-card-block').get('href')\n",
    "    print('https://ani.gamer.com.tw/'+anime_href)\n",
    "\n",
    "print('----------')"
   ]
  },
  {
   "cell_type": "code",
   "execution_count": 22,
   "id": "aba97404",
   "metadata": {},
   "outputs": [],
   "source": [
    "#轉成csv檔\n",
    "#使用pandas套件\n",
    "import pandas as pd\n",
    "\n",
    "a = pd.read_csv(\"hw3.csv\",index_col=0)"
   ]
  },
  {
   "cell_type": "code",
   "execution_count": 23,
   "id": "90a86cc2",
   "metadata": {},
   "outputs": [
    {
     "data": {
      "text/html": [
       "<div>\n",
       "<style scoped>\n",
       "    .dataframe tbody tr th:only-of-type {\n",
       "        vertical-align: middle;\n",
       "    }\n",
       "\n",
       "    .dataframe tbody tr th {\n",
       "        vertical-align: top;\n",
       "    }\n",
       "\n",
       "    .dataframe thead th {\n",
       "        text-align: right;\n",
       "    }\n",
       "</style>\n",
       "<table border=\"1\" class=\"dataframe\">\n",
       "  <thead>\n",
       "    <tr style=\"text-align: right;\">\n",
       "      <th></th>\n",
       "    </tr>\n",
       "    <tr>\n",
       "      <th>鏈鋸人</th>\n",
       "    </tr>\n",
       "  </thead>\n",
       "  <tbody>\n",
       "    <tr>\n",
       "      <th>14.7萬</th>\n",
       "    </tr>\n",
       "    <tr>\n",
       "      <th>第3集</th>\n",
       "    </tr>\n",
       "    <tr>\n",
       "      <th>https://ani.gamer.com.tw/animeVideo.php?sn=31672</th>\n",
       "    </tr>\n",
       "    <tr>\n",
       "      <th>呆萌酷男孩</th>\n",
       "    </tr>\n",
       "    <tr>\n",
       "      <th>7.4萬</th>\n",
       "    </tr>\n",
       "  </tbody>\n",
       "</table>\n",
       "</div>"
      ],
      "text/plain": [
       "Empty DataFrame\n",
       "Columns: []\n",
       "Index: [14.7萬, 第3集, https://ani.gamer.com.tw/animeVideo.php?sn=31672, 呆萌酷男孩, 7.4萬]"
      ]
     },
     "execution_count": 23,
     "metadata": {},
     "output_type": "execute_result"
    }
   ],
   "source": [
    "#列出前幾筆資料\n",
    "a.head()"
   ]
  },
  {
   "cell_type": "code",
   "execution_count": 13,
   "id": "e8c673aa",
   "metadata": {},
   "outputs": [],
   "source": [
    "#把JSON檔叫近來打開 \n",
    "import json\n",
    "hw3 = open('hw3.json',encoding=\"utf8\")"
   ]
  },
  {
   "cell_type": "code",
   "execution_count": 14,
   "id": "5d9453b9",
   "metadata": {
    "scrolled": false
   },
   "outputs": [],
   "source": [
    "H = json.load(hw3)"
   ]
  },
  {
   "cell_type": "code",
   "execution_count": 15,
   "id": "4062fa49",
   "metadata": {},
   "outputs": [
    {
     "data": {
      "text/plain": [
       "dict"
      ]
     },
     "execution_count": 15,
     "metadata": {},
     "output_type": "execute_result"
    }
   ],
   "source": [
    "type(H)"
   ]
  },
  {
   "cell_type": "code",
   "execution_count": 16,
   "id": "27f65021",
   "metadata": {},
   "outputs": [
    {
     "data": {
      "text/plain": [
       "dict_items([('動漫', [{'動漫名稱': '鏈鋸人', '觀看人數': '14.7萬', '集數': '第3集', '網址': 'https://ani.gamer.com.tw/animeVideo.php?sn=31672'}, {'動漫名稱': '呆萌酷男孩', '觀看人數': '7.4萬', '集數': '第4集', '網址': 'https://ani.gamer.com.tw/animeVideo.php?sn=31748'}, {'動漫名稱': 'BLEACH 死神 千年血戰篇', '觀看人數': '48萬', '集數': '第4集', '網址': 'https://ani.gamer.com.tw/animeVideo.php?sn=31745'}, {'動漫名稱': '菜鳥鍊金術師開店營業中', '觀看人數': '35.5萬', '集數': '第5集', '網址': 'https://ani.gamer.com.tw/animeVideo.php?sn=31668'}, {'動漫名稱': '給不滅的你 第二季', '觀看人數': '4.2萬', '集數': '第2集', '網址': 'https://ani.gamer.com.tw/animeVideo.php?sn=31755'}, {'動漫名稱': '彼得・格里爾的賢者時間 Super Extra', '觀看人數': '5.9萬', '集數': '第4集', '網址': 'https://ani.gamer.com.tw/animeVideo.php?sn=31742'}, {'動漫名稱': '彼得・格里爾的賢者時間 Super Extra', '觀看人數': '11.7萬', '集數': '第4集', '網址': 'https://ani.gamer.com.tw/animeVideo.php?sn=31739'}, {'動漫名稱': 'IDOLiSH7 - 偶像星願 - Third BEAT！', '觀看人數': '30.3萬', '集數': '第18集', '網址': 'https://ani.gamer.com.tw/animeVideo.php?sn=31736'}, {'動漫名稱': '夫婦以上，戀人未滿', '觀看人數': '23.4萬', '集數': '第4集', '網址': 'https://ani.gamer.com.tw/animeVideo.php?sn=31733'}, {'動漫名稱': '機動戰士鋼彈 水星的魔女', '觀看人數': '64.1萬', '集數': '第5集', '網址': 'https://ani.gamer.com.tw/animeVideo.php?sn=31701'}, {'動漫名稱': '超人力霸王德卡', '觀看人數': '4.7萬', '集數': '第16集', '網址': 'https://ani.gamer.com.tw/animeVideo.php?sn=31730'}, {'動漫名稱': '藍色監獄', '觀看人數': '31.9萬', '集數': '第4集', '網址': 'https://ani.gamer.com.tw/animeVideo.php?sn=31727'}, {'動漫名稱': '烙印勇士 黃金時代篇 MEMORIAL EDITION', '觀看人數': '6.2萬', '集數': '第5集', '網址': 'https://ani.gamer.com.tw/animeVideo.php?sn=31698'}, {'動漫名稱': '孤獨搖滾！', '觀看人數': '38.6萬', '集數': '第4集', '網址': 'https://ani.gamer.com.tw/animeVideo.php?sn=31724'}, {'動漫名稱': '新網球王子 U-17 世界盃', '觀看人數': '12.1萬', '集數': '第13集', '網址': 'https://ani.gamer.com.tw/animeVideo.php?sn=31615'}, {'動漫名稱': '後宮之烏', '觀看人數': '22.8萬', '集數': '第5集', '網址': 'https://ani.gamer.com.tw/animeVideo.php?sn=31695'}, {'動漫名稱': 'SPY×FAMILY 間諜家家酒', '觀看人數': '1166.6萬', '集數': '第17集', '網址': 'https://ani.gamer.com.tw/animeVideo.php?sn=31692'}, {'動漫名稱': '點滿農民相關技能後，不知為何就變強了。', '觀看人數': '51.3萬', '集數': '第5集', '網址': 'https://ani.gamer.com.tw/animeVideo.php?sn=31689'}, {'動漫名稱': '因為是反派大小姐所以養了魔王', '觀看人數': '35.5萬', '集數': '第6集', '網址': 'https://ani.gamer.com.tw/animeVideo.php?sn=31721'}, {'動漫名稱': '被勇者隊伍開除的馭獸使，邂逅了最強種的貓耳少女', '觀看人數': '58.6萬', '集數': '第5集', '網址': 'https://ani.gamer.com.tw/animeVideo.php?sn=31719'}, {'動漫名稱': '入間同學入魔了！第三季', '觀看人數': '30.8萬', '集數': '第4集', '網址': 'https://ani.gamer.com.tw/animeVideo.php?sn=31715'}, {'動漫名稱': '我的英雄學院 第六季', '觀看人數': '47.8萬', '集數': '第118集', '網址': 'https://ani.gamer.com.tw/animeVideo.php?sn=31686'}, {'動漫名稱': 'PUI PUI 天竺鼠車車 駕訓班篇', '觀看人數': '13.8萬', '集數': '第4集', '網址': 'https://ani.gamer.com.tw/animeVideo.php?sn=31712'}, {'動漫名稱': '惑星公主蜥蜴騎士', '觀看人數': '24.1萬', '集數': '第16集', '網址': 'https://ani.gamer.com.tw/animeVideo.php?sn=31709'}, {'動漫名稱': '聖劍傳說 Legend of Mana - The Teardrop Crystal -', '觀看人數': '7.5萬', '集數': '第4集', '網址': 'https://ani.gamer.com.tw/animeVideo.php?sn=31706'}, {'動漫名稱': '我家師傅沒有尾巴', '觀看人數': '9萬', '集數': '第5集', '網址': 'https://ani.gamer.com.tw/animeVideo.php?sn=31665'}, {'動漫名稱': '她來自煩星', '觀看人數': '13.3萬', '集數': '第3集', '網址': 'https://ani.gamer.com.tw/animeVideo.php?sn=31753'}, {'動漫名稱': '書蟲公主', '觀看人數': '12.3萬', '集數': '第4集', '網址': 'https://ani.gamer.com.tw/animeVideo.php?sn=31703'}, {'動漫名稱': 'MUV-LUV ALTERNATIVE 第二季', '觀看人數': '6.8萬', '集數': '第16集', '網址': 'https://ani.gamer.com.tw/animeVideo.php?sn=31682'}, {'動漫名稱': '路人超能 100 第三季', '觀看人數': '43.9萬', '集數': '第4集', '網址': 'https://ani.gamer.com.tw/animeVideo.php?sn=31676'}, {'動漫名稱': '不道德公會', '觀看人數': '18萬', '集數': '第4集', '網址': 'https://ani.gamer.com.tw/animeVideo.php?sn=31679'}, {'動漫名稱': '轉生就是劍', '觀看人數': '82.6萬', '集數': '第5集', '網址': 'https://ani.gamer.com.tw/animeVideo.php?sn=31662'}, {'動漫名稱': '我想成為影之強者 !', '觀看人數': '73.4萬', '集數': '第4集', '網址': 'https://ani.gamer.com.tw/animeVideo.php?sn=31673'}, {'動漫名稱': '勇者鬥惡龍 達伊的大冒險', '觀看人數': '437.2萬', '集數': '第100集', '網址': 'https://ani.gamer.com.tw/animeVideo.php?sn=31354'}, {'動漫名稱': '風都偵探', '觀看人數': '70.5萬', '集數': '第12集', '網址': 'https://ani.gamer.com.tw/animeVideo.php?sn=31609'}])])"
      ]
     },
     "execution_count": 16,
     "metadata": {},
     "output_type": "execute_result"
    }
   ],
   "source": [
    "#讀出字典裡的資料\n",
    "H.items()"
   ]
  },
  {
   "cell_type": "code",
   "execution_count": null,
   "id": "9a23dd3e",
   "metadata": {},
   "outputs": [],
   "source": []
  }
 ],
 "metadata": {
  "kernelspec": {
   "display_name": "Python 3 (ipykernel)",
   "language": "python",
   "name": "python3"
  },
  "language_info": {
   "codemirror_mode": {
    "name": "ipython",
    "version": 3
   },
   "file_extension": ".py",
   "mimetype": "text/x-python",
   "name": "python",
   "nbconvert_exporter": "python",
   "pygments_lexer": "ipython3",
   "version": "3.9.12"
  }
 },
 "nbformat": 4,
 "nbformat_minor": 5
}
