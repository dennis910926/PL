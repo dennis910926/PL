{
 "cells": [
  {
   "cell_type": "code",
   "execution_count": 2,
   "id": "e21df9b2",
   "metadata": {},
   "outputs": [],
   "source": [
    "str1 = \"刑法第二百八十四條第一項前段之過失傷害罪，法定刑為六月以下有期徒刑、拘役或五百元以下罰金，本條雖未經修正，然據修正後刑法施行法增訂第一條之一\""
   ]
  },
  {
   "cell_type": "code",
   "execution_count": 3,
   "id": "e417c252",
   "metadata": {},
   "outputs": [
    {
     "name": "stdout",
     "output_type": "stream",
     "text": [
      "刑法第二百八十四條第一項前段之過失傷害罪，法定刑為六月以下有期徒刑、拘役或五百元以下罰金，本條雖未經修正，然據修正後刑法施行法增訂第一條之一\n"
     ]
    }
   ],
   "source": [
    "print(str1)"
   ]
  },
  {
   "cell_type": "code",
   "execution_count": 1,
   "id": "1f2273bb",
   "metadata": {},
   "outputs": [],
   "source": [
    "money = 500"
   ]
  },
  {
   "cell_type": "code",
   "execution_count": 2,
   "id": "fe51bad8",
   "metadata": {},
   "outputs": [],
   "source": [
    "month=6 "
   ]
  },
  {
   "cell_type": "code",
   "execution_count": null,
   "id": "0aa9bc80",
   "metadata": {},
   "outputs": [],
   "source": []
  }
 ],
 "metadata": {
  "kernelspec": {
   "display_name": "Python 3 (ipykernel)",
   "language": "python",
   "name": "python3"
  },
  "language_info": {
   "codemirror_mode": {
    "name": "ipython",
    "version": 3
   },
   "file_extension": ".py",
   "mimetype": "text/x-python",
   "name": "python",
   "nbconvert_exporter": "python",
   "pygments_lexer": "ipython3",
   "version": "3.9.12"
  }
 },
 "nbformat": 4,
 "nbformat_minor": 5
}
